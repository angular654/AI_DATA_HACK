{
  "nbformat": 4,
  "nbformat_minor": 0,
  "metadata": {
    "colab": {
      "provenance": [],
      "collapsed_sections": [],
      "authorship_tag": "ABX9TyMkBCGZ/SQl6S9wN7yxNUCw",
      "include_colab_link": true
    },
    "kernelspec": {
      "name": "python3",
      "display_name": "Python 3"
    },
    "language_info": {
      "name": "python"
    }
  },
  "cells": [
    {
      "cell_type": "markdown",
      "metadata": {
        "id": "view-in-github",
        "colab_type": "text"
      },
      "source": [
        "<a href=\"https://colab.research.google.com/github/angular654/AI_DATA_HACK/blob/main/AI_Data_hack.ipynb\" target=\"_parent\"><img src=\"https://colab.research.google.com/assets/colab-badge.svg\" alt=\"Open In Colab\"/></a>"
      ]
    },
    {
      "cell_type": "markdown",
      "source": [
        "Решение кейса представляет собой\n",
        "модель, автоматизированной оценки\n",
        "соответствия указанных в реестре отрасли, подотрасли, технологий и категории\n",
        "продукта неструктурированному массиву данных по компании (сайты и описания\n",
        "компании и продукта)."
      ],
      "metadata": {
        "id": "enw9UqKV_e-f"
      }
    },
    {
      "cell_type": "code",
      "execution_count": null,
      "metadata": {
        "id": "BcTW11rzQKP3"
      },
      "outputs": [],
      "source": [
        "%matplotlib inline\n",
        "import pandas as pd\n",
        "import tensorflow as tf\n",
        "import numpy as np\n",
        "from tensorflow import keras\n",
        "import matplotlib.pyplot as plt\n",
        "import seaborn as sns\n",
        "import os\n",
        "import nltk\n",
        "from nltk.corpus import stopwords\n",
        "from string import punctuation\n",
        "from pymystem3 import Mystem"
      ]
    },
    {
      "cell_type": "code",
      "source": [
        "from google.colab import drive\n",
        "drive.mount('/content/drive')"
      ],
      "metadata": {
        "id": "UeuJaRHjS09a",
        "colab": {
          "base_uri": "https://localhost:8080/"
        },
        "outputId": "30ccc94a-1537-432c-8c7b-755c10d61139"
      },
      "execution_count": null,
      "outputs": [
        {
          "output_type": "stream",
          "name": "stdout",
          "text": [
            "Drive already mounted at /content/drive; to attempt to forcibly remount, call drive.mount(\"/content/drive\", force_remount=True).\n"
          ]
        }
      ]
    },
    {
      "cell_type": "markdown",
      "source": [
        " # nltk examples https://nlpub.ru/NLTK"
      ],
      "metadata": {
        "id": "WRfnW1Tbzx_W"
      }
    },
    {
      "cell_type": "code",
      "source": [
        "nltk.download('stopwords')"
      ],
      "metadata": {
        "colab": {
          "base_uri": "https://localhost:8080/"
        },
        "id": "BUr0Vr9YxtbC",
        "outputId": "896c8272-d579-49d7-a3e2-511298cf51e1"
      },
      "execution_count": null,
      "outputs": [
        {
          "output_type": "stream",
          "name": "stderr",
          "text": [
            "[nltk_data] Downloading package stopwords to /root/nltk_data...\n",
            "[nltk_data]   Package stopwords is already up-to-date!\n"
          ]
        },
        {
          "output_type": "execute_result",
          "data": {
            "text/plain": [
              "True"
            ]
          },
          "metadata": {},
          "execution_count": 86
        }
      ]
    },
    {
      "cell_type": "code",
      "source": [
        "import shutil"
      ],
      "metadata": {
        "id": "UGSiIQw1rfxo"
      },
      "execution_count": null,
      "outputs": []
    },
    {
      "cell_type": "code",
      "source": [
        "shutil.unpack_archive(os.path.join('/content/drive/MyDrive', 'hackaton.zip'), '/content')\n",
        "path = \"/content/Source_Data/\""
      ],
      "metadata": {
        "id": "Au5ELh9Yrg-M"
      },
      "execution_count": null,
      "outputs": []
    },
    {
      "cell_type": "code",
      "source": [
        "company_df = pd.read_excel(os.path.join(path, 'company.xlsx'))\n",
        "industries_df = pd.read_excel(os.path.join(path, 'industries.xlsx'))\n",
        "names = ['global_id (продукта)',    'Компания',  'Рыночное наименование продукта',  'Раздел (ОКПД 2)',  'Класс (ОКПД 2)',    'Подкласс (ОКПД 2)',   'Группа (ОКПД 2)',  'Подгруппа (ОКПД 2)',   'Вид (ОКПД 2)', 'Категория (ОКПД 2)',   'Подкатегория (ОКПД 2)',    'Описание продукта']\n",
        "products_new_df = pd.read_excel(os.path.join(path, 'products_new.xlsx'), names=names)\n",
        "technology_df = pd.read_excel(os.path.join(path, 'technology.xlsx'))"
      ],
      "metadata": {
        "id": "GiaJ0gAfsZTb"
      },
      "execution_count": null,
      "outputs": []
    },
    {
      "cell_type": "code",
      "source": [
        "companies_names = company_df['Наименование поддержанной компании'] "
      ],
      "metadata": {
        "id": "tEtrcsDDEpT3"
      },
      "execution_count": null,
      "outputs": []
    },
    {
      "cell_type": "code",
      "source": [
        "company_df.drop(['global_id', 'Наименование поддержанной компании', 'Сайт'],inplace=True , axis=1)"
      ],
      "metadata": {
        "id": "_a1I9tvZtkmL"
      },
      "execution_count": null,
      "outputs": []
    },
    {
      "cell_type": "code",
      "source": [
        "columns_company = company_df.columns\n",
        "for el in columns_company[:5]:\n",
        "   company_df[\"Описание компании\"] += company_df[el]\n",
        "len(company_df[\"Описание компании\"].iloc[0])"
      ],
      "metadata": {
        "colab": {
          "base_uri": "https://localhost:8080/"
        },
        "id": "EDezpjhtnD-U",
        "outputId": "c97895bf-a65b-4237-ba0b-664ecfe36353"
      },
      "execution_count": null,
      "outputs": [
        {
          "output_type": "execute_result",
          "data": {
            "text/plain": [
              "643"
            ]
          },
          "metadata": {},
          "execution_count": 460
        }
      ]
    },
    {
      "cell_type": "code",
      "source": [
        "#company_df.drop(company_df.loc[company_df['Отрасль']=='н/д'].index, inplace=True)"
      ],
      "metadata": {
        "id": "qMw_R2-7FzPn"
      },
      "execution_count": null,
      "outputs": []
    },
    {
      "cell_type": "code",
      "source": [
        "len(set(company_df['Отрасль']))"
      ],
      "metadata": {
        "colab": {
          "base_uri": "https://localhost:8080/"
        },
        "id": "V1giNwcv2T07",
        "outputId": "0dea681a-dc21-42d3-fedd-01d9ee61e992"
      },
      "execution_count": null,
      "outputs": [
        {
          "output_type": "execute_result",
          "data": {
            "text/plain": [
              "21"
            ]
          },
          "metadata": {},
          "execution_count": 73
        }
      ]
    },
    {
      "cell_type": "code",
      "source": [
        "#otrasl = company_df['Отрасль'].unique()\n",
        "#otrasl = dict(zip(otrasl, range(len(otrasl))))\n",
        "#company_df.replace({'Отрасль': otrasl})"
      ],
      "metadata": {
        "id": "FafMGMVwGbLw"
      },
      "execution_count": null,
      "outputs": []
    },
    {
      "cell_type": "code",
      "source": [
        "company_df[\"Описание компании\"].describe().top"
      ],
      "metadata": {
        "colab": {
          "base_uri": "https://localhost:8080/",
          "height": 105
        },
        "id": "WU1b3ydIqaa5",
        "outputId": "e84f868e-7976-49f6-9ee7-0be1430b94ef"
      },
      "execution_count": null,
      "outputs": [
        {
          "output_type": "execute_result",
          "data": {
            "text/plain": [
              "'ЦМИТ «АКВИЛ» создает и поддерживает условия для занятия детей и подростков техническим творчеством и знакомит их с инженерным делом.\\nРабота Центра организована в формате лабораторий, где слушатели занимаются малыми группами, сформированными по возрасту и уровню подготовки. Наставниками юных исследователей в лабораториях являются сотрудники и выпускники Самарского национального исследовательского университета имени академика С.П. Королева.\\n\\nШкольники в лабораториях приобретают навыки работы с обоПРОЧАЯ ДЕЯТЕЛЬНОСТЬПрочие услугиСинтез информацииСинтез контентаСинтез образовательного контента'"
            ],
            "application/vnd.google.colaboratory.intrinsic+json": {
              "type": "string"
            }
          },
          "metadata": {},
          "execution_count": 94
        }
      ]
    },
    {
      "cell_type": "code",
      "source": [
        "STOPWORDS = set(stopwords.words(\"russian\"))\n",
        "MAX_NB_WORDS = 2000\n",
        "MAX_SEQUENCE_LENGTH = 250\n",
        "\n",
        "\n",
        "def clean_text(text):\n",
        "    text = text.lower()\n",
        "    text = text.replace('\\n', ' ')\n",
        "    text = ' '.join(word for word in text.split() if word not in STOPWORDS)\n",
        "    return text\n",
        "company_df[\"Описание компании\"] = company_df[\"Описание компании\"].apply(clean_text)\n",
        "company_df.head()"
      ],
      "metadata": {
        "colab": {
          "base_uri": "https://localhost:8080/",
          "height": 441
        },
        "id": "Xh-0RPzIq2Mv",
        "outputId": "b5681136-1109-4089-ab72-eef9cdbcbdbd"
      },
      "execution_count": null,
      "outputs": [
        {
          "output_type": "execute_result",
          "data": {
            "text/plain": [
              "                                    Отрасль  \\\n",
              "0  СЕЛЬСКОЕ ХОЗЯЙСТВО (ВКЛЮЧАЯ РЫБОЛОВСТВО)   \n",
              "1               ТЕЛЕКОММУНИКАЦИИ И ИНТЕРНЕТ   \n",
              "2                            ПРОМЫШЛЕННОСТЬ   \n",
              "3               ТЕЛЕКОММУНИКАЦИИ И ИНТЕРНЕТ   \n",
              "4               ТЕЛЕКОММУНИКАЦИИ И ИНТЕРНЕТ   \n",
              "\n",
              "                                          Подотрасль  \\\n",
              "0                                    Растениеводство   \n",
              "1  Деятельность по созданию новых информационных ...   \n",
              "2  Металлургия, металлопродукция, производство го...   \n",
              "3        Разработка аппаратно-программных комплексов   \n",
              "4          Специализированные информационные системы   \n",
              "\n",
              "                  Технология (1 уровень)               Технология (2 уровень)  \\\n",
              "0           Синтез материальных объектов     Синтез живых организмов и систем   \n",
              "1                      Синтез информации              Искусственный интеллект   \n",
              "2           Синтез материальных объектов      Новые производственные процессы   \n",
              "3  Обработка и преобразование информации  Обработка и хранение больших данных   \n",
              "4                      Синтез информации                      Синтез контента   \n",
              "\n",
              "                              Технология (3 уровень)  \\\n",
              "0                       Технологии селекции растений   \n",
              "1  Обработка естественных языков (перевод, класси...   \n",
              "2                          Технологии сварки и пайки   \n",
              "3                 Интерфейсы обмена большими данными   \n",
              "4                   Синтез образовательного контента   \n",
              "\n",
              "                                   Описание компании  \n",
              "0  ооо «агроплазма» является оригинатором патенто...  \n",
              "1  \"лаборатория наносемантика\" — ведущий российск...  \n",
              "2  компания \"romet\" специализируется производстве...  \n",
              "3  компания 2can решает проблему приема денежных ...  \n",
              "4  \"учи.ру\" — крупнейшая отечественная образовате...  "
            ],
            "text/html": [
              "\n",
              "  <div id=\"df-f43f5a71-7e99-49af-9452-4f9386347889\">\n",
              "    <div class=\"colab-df-container\">\n",
              "      <div>\n",
              "<style scoped>\n",
              "    .dataframe tbody tr th:only-of-type {\n",
              "        vertical-align: middle;\n",
              "    }\n",
              "\n",
              "    .dataframe tbody tr th {\n",
              "        vertical-align: top;\n",
              "    }\n",
              "\n",
              "    .dataframe thead th {\n",
              "        text-align: right;\n",
              "    }\n",
              "</style>\n",
              "<table border=\"1\" class=\"dataframe\">\n",
              "  <thead>\n",
              "    <tr style=\"text-align: right;\">\n",
              "      <th></th>\n",
              "      <th>Отрасль</th>\n",
              "      <th>Подотрасль</th>\n",
              "      <th>Технология (1 уровень)</th>\n",
              "      <th>Технология (2 уровень)</th>\n",
              "      <th>Технология (3 уровень)</th>\n",
              "      <th>Описание компании</th>\n",
              "    </tr>\n",
              "  </thead>\n",
              "  <tbody>\n",
              "    <tr>\n",
              "      <th>0</th>\n",
              "      <td>СЕЛЬСКОЕ ХОЗЯЙСТВО (ВКЛЮЧАЯ РЫБОЛОВСТВО)</td>\n",
              "      <td>Растениеводство</td>\n",
              "      <td>Синтез материальных объектов</td>\n",
              "      <td>Синтез живых организмов и систем</td>\n",
              "      <td>Технологии селекции растений</td>\n",
              "      <td>ооо «агроплазма» является оригинатором патенто...</td>\n",
              "    </tr>\n",
              "    <tr>\n",
              "      <th>1</th>\n",
              "      <td>ТЕЛЕКОММУНИКАЦИИ И ИНТЕРНЕТ</td>\n",
              "      <td>Деятельность по созданию новых информационных ...</td>\n",
              "      <td>Синтез информации</td>\n",
              "      <td>Искусственный интеллект</td>\n",
              "      <td>Обработка естественных языков (перевод, класси...</td>\n",
              "      <td>\"лаборатория наносемантика\" — ведущий российск...</td>\n",
              "    </tr>\n",
              "    <tr>\n",
              "      <th>2</th>\n",
              "      <td>ПРОМЫШЛЕННОСТЬ</td>\n",
              "      <td>Металлургия, металлопродукция, производство го...</td>\n",
              "      <td>Синтез материальных объектов</td>\n",
              "      <td>Новые производственные процессы</td>\n",
              "      <td>Технологии сварки и пайки</td>\n",
              "      <td>компания \"romet\" специализируется производстве...</td>\n",
              "    </tr>\n",
              "    <tr>\n",
              "      <th>3</th>\n",
              "      <td>ТЕЛЕКОММУНИКАЦИИ И ИНТЕРНЕТ</td>\n",
              "      <td>Разработка аппаратно-программных комплексов</td>\n",
              "      <td>Обработка и преобразование информации</td>\n",
              "      <td>Обработка и хранение больших данных</td>\n",
              "      <td>Интерфейсы обмена большими данными</td>\n",
              "      <td>компания 2can решает проблему приема денежных ...</td>\n",
              "    </tr>\n",
              "    <tr>\n",
              "      <th>4</th>\n",
              "      <td>ТЕЛЕКОММУНИКАЦИИ И ИНТЕРНЕТ</td>\n",
              "      <td>Специализированные информационные системы</td>\n",
              "      <td>Синтез информации</td>\n",
              "      <td>Синтез контента</td>\n",
              "      <td>Синтез образовательного контента</td>\n",
              "      <td>\"учи.ру\" — крупнейшая отечественная образовате...</td>\n",
              "    </tr>\n",
              "  </tbody>\n",
              "</table>\n",
              "</div>\n",
              "      <button class=\"colab-df-convert\" onclick=\"convertToInteractive('df-f43f5a71-7e99-49af-9452-4f9386347889')\"\n",
              "              title=\"Convert this dataframe to an interactive table.\"\n",
              "              style=\"display:none;\">\n",
              "        \n",
              "  <svg xmlns=\"http://www.w3.org/2000/svg\" height=\"24px\"viewBox=\"0 0 24 24\"\n",
              "       width=\"24px\">\n",
              "    <path d=\"M0 0h24v24H0V0z\" fill=\"none\"/>\n",
              "    <path d=\"M18.56 5.44l.94 2.06.94-2.06 2.06-.94-2.06-.94-.94-2.06-.94 2.06-2.06.94zm-11 1L8.5 8.5l.94-2.06 2.06-.94-2.06-.94L8.5 2.5l-.94 2.06-2.06.94zm10 10l.94 2.06.94-2.06 2.06-.94-2.06-.94-.94-2.06-.94 2.06-2.06.94z\"/><path d=\"M17.41 7.96l-1.37-1.37c-.4-.4-.92-.59-1.43-.59-.52 0-1.04.2-1.43.59L10.3 9.45l-7.72 7.72c-.78.78-.78 2.05 0 2.83L4 21.41c.39.39.9.59 1.41.59.51 0 1.02-.2 1.41-.59l7.78-7.78 2.81-2.81c.8-.78.8-2.07 0-2.86zM5.41 20L4 18.59l7.72-7.72 1.47 1.35L5.41 20z\"/>\n",
              "  </svg>\n",
              "      </button>\n",
              "      \n",
              "  <style>\n",
              "    .colab-df-container {\n",
              "      display:flex;\n",
              "      flex-wrap:wrap;\n",
              "      gap: 12px;\n",
              "    }\n",
              "\n",
              "    .colab-df-convert {\n",
              "      background-color: #E8F0FE;\n",
              "      border: none;\n",
              "      border-radius: 50%;\n",
              "      cursor: pointer;\n",
              "      display: none;\n",
              "      fill: #1967D2;\n",
              "      height: 32px;\n",
              "      padding: 0 0 0 0;\n",
              "      width: 32px;\n",
              "    }\n",
              "\n",
              "    .colab-df-convert:hover {\n",
              "      background-color: #E2EBFA;\n",
              "      box-shadow: 0px 1px 2px rgba(60, 64, 67, 0.3), 0px 1px 3px 1px rgba(60, 64, 67, 0.15);\n",
              "      fill: #174EA6;\n",
              "    }\n",
              "\n",
              "    [theme=dark] .colab-df-convert {\n",
              "      background-color: #3B4455;\n",
              "      fill: #D2E3FC;\n",
              "    }\n",
              "\n",
              "    [theme=dark] .colab-df-convert:hover {\n",
              "      background-color: #434B5C;\n",
              "      box-shadow: 0px 1px 3px 1px rgba(0, 0, 0, 0.15);\n",
              "      filter: drop-shadow(0px 1px 2px rgba(0, 0, 0, 0.3));\n",
              "      fill: #FFFFFF;\n",
              "    }\n",
              "  </style>\n",
              "\n",
              "      <script>\n",
              "        const buttonEl =\n",
              "          document.querySelector('#df-f43f5a71-7e99-49af-9452-4f9386347889 button.colab-df-convert');\n",
              "        buttonEl.style.display =\n",
              "          google.colab.kernel.accessAllowed ? 'block' : 'none';\n",
              "\n",
              "        async function convertToInteractive(key) {\n",
              "          const element = document.querySelector('#df-f43f5a71-7e99-49af-9452-4f9386347889');\n",
              "          const dataTable =\n",
              "            await google.colab.kernel.invokeFunction('convertToInteractive',\n",
              "                                                     [key], {});\n",
              "          if (!dataTable) return;\n",
              "\n",
              "          const docLinkHtml = 'Like what you see? Visit the ' +\n",
              "            '<a target=\"_blank\" href=https://colab.research.google.com/notebooks/data_table.ipynb>data table notebook</a>'\n",
              "            + ' to learn more about interactive tables.';\n",
              "          element.innerHTML = '';\n",
              "          dataTable['output_type'] = 'display_data';\n",
              "          await google.colab.output.renderOutput(dataTable, element);\n",
              "          const docLink = document.createElement('div');\n",
              "          docLink.innerHTML = docLinkHtml;\n",
              "          element.appendChild(docLink);\n",
              "        }\n",
              "      </script>\n",
              "    </div>\n",
              "  </div>\n",
              "  "
            ]
          },
          "metadata": {},
          "execution_count": 95
        }
      ]
    },
    {
      "cell_type": "markdown",
      "source": [
        "Модель (lstm, Sequtial)"
      ],
      "metadata": {
        "id": "V4BEFxtogTe9"
      }
    },
    {
      "cell_type": "code",
      "source": [
        "labels_list = []\n",
        "for column in company_df.columns:\n",
        "   labels_list.append(company_df[column])\n",
        "labels_list.pop(-1)\n",
        "labels_list"
      ],
      "metadata": {
        "colab": {
          "base_uri": "https://localhost:8080/"
        },
        "id": "LveH61hOyiJq",
        "outputId": "83dcaf28-b187-412c-a7e7-edcac695dce3"
      },
      "execution_count": null,
      "outputs": [
        {
          "output_type": "execute_result",
          "data": {
            "text/plain": [
              "[0                СЕЛЬСКОЕ ХОЗЯЙСТВО (ВКЛЮЧАЯ РЫБОЛОВСТВО)\n",
              " 1                             ТЕЛЕКОММУНИКАЦИИ И ИНТЕРНЕТ\n",
              " 2                                          ПРОМЫШЛЕННОСТЬ\n",
              " 3                             ТЕЛЕКОММУНИКАЦИИ И ИНТЕРНЕТ\n",
              " 4                             ТЕЛЕКОММУНИКАЦИИ И ИНТЕРНЕТ\n",
              "                               ...                        \n",
              " 3712    ИССЛЕДОВАНИЯ И ИНЖЕНЕРНО-ТЕХНИЧЕСКОЕ ПРОЕКТИРО...\n",
              " 3713                          ТЕЛЕКОММУНИКАЦИИ И ИНТЕРНЕТ\n",
              " 3714                          ТЕЛЕКОММУНИКАЦИИ И ИНТЕРНЕТ\n",
              " 3715                                       ПРОМЫШЛЕННОСТЬ\n",
              " 3716                                       ПРОМЫШЛЕННОСТЬ\n",
              " Name: Отрасль, Length: 3717, dtype: object,\n",
              " 0                                         Растениеводство\n",
              " 1       Деятельность по созданию новых информационных ...\n",
              " 2       Металлургия, металлопродукция, производство го...\n",
              " 3             Разработка аппаратно-программных комплексов\n",
              " 4               Специализированные информационные системы\n",
              "                               ...                        \n",
              " 3712    Заказные исследования и разработки, государств...\n",
              " 3713            Специализированные информационные системы\n",
              " 3714            Специализированные информационные системы\n",
              " 3715                        Производство новых материалов\n",
              " 3716                        Производство новых материалов\n",
              " Name: Подотрасль, Length: 3717, dtype: object,\n",
              " 0                Синтез материальных объектов\n",
              " 1                           Синтез информации\n",
              " 2                Синтез материальных объектов\n",
              " 3       Обработка и преобразование информации\n",
              " 4                           Синтез информации\n",
              "                         ...                  \n",
              " 3712             Синтез материальных объектов\n",
              " 3713                        Синтез информации\n",
              " 3714    Обработка и преобразование информации\n",
              " 3715             Синтез материальных объектов\n",
              " 3716             Синтез материальных объектов\n",
              " Name: Технология (1 уровень), Length: 3717, dtype: object,\n",
              " 0          Синтез живых организмов и систем\n",
              " 1                   Искусственный интеллект\n",
              " 2           Новые производственные процессы\n",
              " 3       Обработка и хранение больших данных\n",
              " 4                           Синтез контента\n",
              "                        ...                 \n",
              " 3712                   Инженерные комплексы\n",
              " 3713                Искусственный интеллект\n",
              " 3714    Интеллектуальные системы управления\n",
              " 3715          Материалы с новыми свойствами\n",
              " 3716          Материалы с новыми свойствами\n",
              " Name: Технология (2 уровень), Length: 3717, dtype: object,\n",
              " 0                            Технологии селекции растений\n",
              " 1       Обработка естественных языков (перевод, класси...\n",
              " 2                               Технологии сварки и пайки\n",
              " 3                      Интерфейсы обмена большими данными\n",
              " 4                        Синтез образовательного контента\n",
              "                               ...                        \n",
              " 3712                            Робототехнические решения\n",
              " 3713    Экспертные системы на базе искусственного инте...\n",
              " 3714    Системы управления жизненным циклом сложных ин...\n",
              " 3715                           Изменение объемных свойств\n",
              " 3716                           Изменение объемных свойств\n",
              " Name: Технология (3 уровень), Length: 3717, dtype: object]"
            ]
          },
          "metadata": {},
          "execution_count": 305
        }
      ]
    },
    {
      "cell_type": "code",
      "source": [
        "import io\n",
        "\n",
        "def create_company_info_dir():\n",
        "  os.mkdir('/content/description_cmp')\n",
        "  for i in range(len(company_df[\"Описание компании\"])):\n",
        "    with io.open(f\"/content/description_cmp/text_{i}.txt\", 'w', encoding='utf8') as stream:\n",
        "      content = company_df[\"Описание компании\"].loc[i]\n",
        "      STOPWORDS.add(companies_names[0])\n",
        "      content = ' '.join([word for word in content.split(' ') if word not in STOPWORDS])\n",
        "      stream.write(content)\n",
        "      \n",
        "create_company_info_dir()\n",
        "len(os.listdir('/content/description_cmp'))"
      ],
      "metadata": {
        "colab": {
          "base_uri": "https://localhost:8080/"
        },
        "id": "xoaVFKr1Lms1",
        "outputId": "a5a153bf-bf85-4914-9c7a-64e988107059"
      },
      "execution_count": null,
      "outputs": [
        {
          "output_type": "execute_result",
          "data": {
            "text/plain": [
              "3717"
            ]
          },
          "metadata": {},
          "execution_count": 487
        }
      ]
    },
    {
      "cell_type": "code",
      "source": [
        "shutil.rmtree('/content/description_cmp')"
      ],
      "metadata": {
        "id": "zXkSvZm6OnoE"
      },
      "execution_count": null,
      "outputs": []
    },
    {
      "cell_type": "code",
      "source": [
        "shutil.rmtree('/content/Отрасль')"
      ],
      "metadata": {
        "id": "j2z2nSQwO4hA"
      },
      "execution_count": null,
      "outputs": []
    },
    {
      "cell_type": "code",
      "source": [
        "# формирование датасетов по лейблам\n",
        "os.mkdir('/content/Отрасль') \n",
        "def create_dataset(dir, labels_list_item, pd_df, category):\n",
        "  train_images = os.listdir(dir)\n",
        "  print(len(set(labels_list_item)))\n",
        "  input()\n",
        "  for i in range(len(labels_list_item)):\n",
        "      train_directory = os.path.join(dir, str(labels_list_item[i]))\n",
        "      try:\n",
        "        if labels_list_item[i] != 'н/д':\n",
        "          os.mkdir(train_directory)\n",
        "      except:\n",
        "          pass\n",
        "      try:\n",
        "       shutil.move(f'/content/description_cmp/text_{i}.txt', train_directory)\n",
        "      except:\n",
        "        pass\n",
        "create_dataset('/content/Отрасль', labels_list[0], company_df, 'Отрасль')"
      ],
      "metadata": {
        "id": "un5rK1md-tUU",
        "colab": {
          "base_uri": "https://localhost:8080/"
        },
        "outputId": "ff04a114-ccc5-41f5-801c-3fd79be1af98"
      },
      "execution_count": null,
      "outputs": [
        {
          "name": "stdout",
          "output_type": "stream",
          "text": [
            "21\n",
            "\n"
          ]
        }
      ]
    },
    {
      "cell_type": "code",
      "source": [
        "!pip install split-folders"
      ],
      "metadata": {
        "colab": {
          "base_uri": "https://localhost:8080/"
        },
        "id": "zV4xj7XaSF3v",
        "outputId": "0cd2a05e-7085-4e09-a3f8-9c60acbc9e60"
      },
      "execution_count": null,
      "outputs": [
        {
          "output_type": "stream",
          "name": "stdout",
          "text": [
            "Looking in indexes: https://pypi.org/simple, https://us-python.pkg.dev/colab-wheels/public/simple/\n",
            "Requirement already satisfied: split-folders in /usr/local/lib/python3.7/dist-packages (0.5.1)\n"
          ]
        }
      ]
    },
    {
      "cell_type": "code",
      "source": [
        "shutil.rmtree('/content/отрасль_ds')"
      ],
      "metadata": {
        "id": "tDiMd0ij9rkG"
      },
      "execution_count": null,
      "outputs": []
    },
    {
      "cell_type": "code",
      "source": [
        "import splitfolders\n",
        "splitfolders.ratio('Отрасль', output=\"отрасль_ds\", seed=1337, ratio=(.7, 0.2,0.1))"
      ],
      "metadata": {
        "colab": {
          "base_uri": "https://localhost:8080/"
        },
        "id": "U1h_kOZFSPFy",
        "outputId": "e3e8f7e0-a964-479d-f710-a4cb1d3004f2"
      },
      "execution_count": null,
      "outputs": [
        {
          "output_type": "stream",
          "name": "stderr",
          "text": [
            "Copying files: 3715 files [00:01, 3407.14 files/s]\n"
          ]
        }
      ]
    },
    {
      "cell_type": "code",
      "source": [
        "batch_size = 32\n",
        "raw_train_ds = tf.keras.preprocessing.text_dataset_from_directory(\n",
        "    \"отрасль_ds/train\",\n",
        "    batch_size=batch_size,\n",
        "    validation_split=0.2,\n",
        "    subset=\"training\",\n",
        "    seed=1337,\n",
        ")\n",
        "raw_val_ds = tf.keras.preprocessing.text_dataset_from_directory(\n",
        "    \"отрасль_ds/train\",\n",
        "    batch_size=batch_size,\n",
        "    validation_split=0.2,\n",
        "    subset=\"validation\",\n",
        "    seed=1337,\n",
        ")\n",
        "raw_test_ds = tf.keras.preprocessing.text_dataset_from_directory(\n",
        "    \"отрасль_ds/test\", batch_size=batch_size\n",
        ")"
      ],
      "metadata": {
        "colab": {
          "base_uri": "https://localhost:8080/"
        },
        "id": "pN5o90i_OKL_",
        "outputId": "33048674-3e87-4bb5-adf9-1e6a8f0bb064"
      },
      "execution_count": null,
      "outputs": [
        {
          "output_type": "stream",
          "name": "stdout",
          "text": [
            "Found 2590 files belonging to 20 classes.\n",
            "Using 2072 files for training.\n",
            "Found 2590 files belonging to 20 classes.\n",
            "Using 518 files for validation.\n",
            "Found 389 files belonging to 20 classes.\n"
          ]
        }
      ]
    },
    {
      "cell_type": "code",
      "source": [
        "for text_batch, label_batch in raw_train_ds.take(1):\n",
        "  for i in range(3):\n",
        "    print(\"Review\", text_batch.numpy()[i])\n",
        "    print(\"Label\", label_batch.numpy()[i])"
      ],
      "metadata": {
        "colab": {
          "base_uri": "https://localhost:8080/"
        },
        "id": "nEgOLy5_OUNK",
        "outputId": "4870289f-8c66-4398-d81e-46983cd8728f"
      },
      "execution_count": null,
      "outputs": [
        {
          "output_type": "stream",
          "name": "stdout",
          "text": [
            "Review b'\\xc2\\xab\\xd0\\xa2\\xd0\\xa0\\xd0\\xad\\xd0\\x92\\xd0\\x95\\xd0\\x9b \\xd0\\x9e\\xd0\\xa4\\xd0\\x98\\xd0\\xa1 \\xd0\\x9f\\xd0\\xa0\\xd0\\x9e\\xc2\\xbb \\xd1\\x81\\xd0\\xbe\\xd0\\xb7\\xd0\\xb4\\xd0\\xb0\\xd0\\xbd\\xd0\\xbe \\xd0\\xb7\\xd0\\xb0\\xd1\\x80\\xd0\\xb5\\xd0\\xb3\\xd0\\xb8\\xd1\\x81\\xd1\\x82\\xd1\\x80\\xd0\\xb8\\xd1\\x80\\xd0\\xbe\\xd0\\xb2\\xd0\\xb0\\xd0\\xbd\\xd0\\xbe 3 \\xd0\\xb0\\xd0\\xbf\\xd1\\x80\\xd0\\xb5\\xd0\\xbb\\xd1\\x8f 2019 \\xd0\\xb3\\xd0\\xbe\\xd0\\xb4\\xd0\\xb0. \\xd0\\x9e\\xd0\\xb1\\xd0\\xbb\\xd0\\xb0\\xd1\\x81\\xd1\\x82\\xd1\\x8c \\xd0\\xb4\\xd0\\xb5\\xd1\\x8f\\xd1\\x82\\xd0\\xb5\\xd0\\xbb\\xd1\\x8c\\xd0\\xbd\\xd0\\xbe\\xd1\\x81\\xd1\\x82\\xd0\\xb8 \\xd0\\xbf\\xd1\\x80\\xd0\\xb5\\xd0\\xb4\\xd0\\xbf\\xd1\\x80\\xd0\\xb8\\xd1\\x8f\\xd1\\x82\\xd0\\xb8\\xd1\\x8f - \\xd1\\x80\\xd0\\xb0\\xd0\\xb7\\xd1\\x80\\xd0\\xb0\\xd0\\xb1\\xd0\\xbe\\xd1\\x82\\xd0\\xba\\xd0\\xb0 \\xd0\\xba\\xd0\\xbe\\xd0\\xbc\\xd0\\xbf\\xd1\\x8c\\xd1\\x8e\\xd1\\x82\\xd0\\xb5\\xd1\\x80\\xd0\\xbd\\xd0\\xbe\\xd0\\xb3\\xd0\\xbe \\xd0\\xbf\\xd1\\x80\\xd0\\xbe\\xd0\\xb3\\xd1\\x80\\xd0\\xb0\\xd0\\xbc\\xd0\\xbc\\xd0\\xbd\\xd0\\xbe\\xd0\\xb3\\xd0\\xbe \\xd0\\xbe\\xd0\\xb1\\xd0\\xb5\\xd1\\x81\\xd0\\xbf\\xd0\\xb5\\xd1\\x87\\xd0\\xb5\\xd0\\xbd\\xd0\\xb8\\xd1\\x8f.\\n\\xd0\\xa1 \\xd0\\xbc\\xd0\\xbe\\xd0\\xbc\\xd0\\xb5\\xd0\\xbd\\xd1\\x82\\xd0\\xb0 \\xd1\\x81\\xd0\\xbe\\xd0\\xb7\\xd0\\xb4\\xd0\\xb0\\xd0\\xbd\\xd0\\xb8\\xd1\\x8f \\xd0\\xbf\\xd1\\x80\\xd0\\xb5\\xd0\\xb4\\xd0\\xbf\\xd1\\x80\\xd0\\xb8\\xd1\\x8f\\xd1\\x82\\xd0\\xb8\\xd0\\xb5 \\xd0\\xb2\\xd0\\xb5\\xd0\\xb4\\xd0\\xb5\\xd1\\x82 \\xd1\\x80\\xd0\\xb0\\xd0\\xb7\\xd1\\x80\\xd0\\xb0\\xd0\\xb1\\xd0\\xbe\\xd1\\x82\\xd0\\xba\\xd1\\x83 \\xd0\\xb8\\xd0\\xbd\\xd0\\xbd\\xd0\\xbe\\xd0\\xb2\\xd0\\xb0\\xd1\\x86\\xd0\\xb8\\xd0\\xbe\\xd0\\xbd\\xd0\\xbd\\xd0\\xbe\\xd0\\xb3\\xd0\\xbe \\xd0\\xbf\\xd1\\x80\\xd0\\xbe\\xd0\\xb5\\xd0\\xba\\xd1\\x82\\xd0\\xb0: \\xc2\\xabTravelSys.Pro - \\xd1\\x80\\xd0\\xbe\\xd0\\xb1\\xd0\\xbe\\xd1\\x82\\xd0\\xb8\\xd0\\xb7\\xd0\\xb8\\xd1\\x80\\xd0\\xbe\\xd0\\xb2\\xd0\\xb0\\xd0\\xbd\\xd0\\xbd\\xd0\\xb0\\xd1\\x8f \\xd1\\x81\\xd0\\xb8\\xd1\\x81\\xd1\\x82\\xd0\\xb5\\xd0\\xbc\\xd0\\xb0 \\xd1\\x83\\xd0\\xbf\\xd1\\x80\\xd0\\xb0\\xd0\\xb2\\xd0\\xbb\\xd0\\xb5\\xd0\\xbd\\xd0\\xb8\\xd1\\x8f \\xd0\\xbe\\xd1\\x84\\xd0\\xbb\\xd0\\xb0\\xd0\\xb9\\xd0\\xbd \\xd0\\xbe\\xd0\\xbd\\xd0\\xbb\\xd0\\xb0\\xd0\\xb9\\xd0\\xbd \\xd1\\x82\\xd1\\x83\\xd1\\x80\\xd0\\xb0\\xd0\\xb3\\xd0\\xb5\\xd0\\xbd\\xd1\\x82\\xd1\\x81\\xd1\\x82\\xd0\\xb2\\xd0\\xbe\\xd0\\xbc \\xd0\\xbe\\xd1\\x81\\xd0\\xbd\\xd0\\xbe\\xd0\\xb2\\xd0\\xb5 \\xd0\\xbf\\xd1\\x80\\xd0\\xbe\\xd1\\x86\\xd0\\xb5\\xd1\\x81\\xd1\\x81\\xd0\\xbd\\xd0\\xbe\\xd0\\xb3\\xd0\\xbe \\xd0\\xbf\\xd0\\xbe\\xd0\\xb4\\xd1\\x85\\xd0\\xbe\\xd0\\xb4\\xd0\\xb0\\xc2\\xbb.\\xd0\\xa2\\xd0\\x95\\xd0\\x9b\\xd0\\x95\\xd0\\x9a\\xd0\\x9e\\xd0\\x9c\\xd0\\x9c\\xd0\\xa3\\xd0\\x9d\\xd0\\x98\\xd0\\x9a\\xd0\\x90\\xd0\\xa6\\xd0\\x98\\xd0\\x98 \\xd0\\x98 \\xd0\\x98\\xd0\\x9d\\xd0\\xa2\\xd0\\x95\\xd0\\xa0\\xd0\\x9d\\xd0\\x95\\xd0\\xa2\\xd0\\xa0\\xd0\\xb5\\xd0\\xba\\xd0\\xbe\\xd0\\xbc\\xd0\\xb5\\xd0\\xbd\\xd0\\xb4\\xd0\\xb0\\xd1\\x82\\xd0\\xb5\\xd0\\xbb\\xd1\\x8c\\xd0\\xbd\\xd1\\x8b\\xd0\\xb5 \\xd1\\x81\\xd0\\xb8\\xd1\\x81\\xd1\\x82\\xd0\\xb5\\xd0\\xbc\\xd1\\x8b, \\xd0\\xbf\\xd0\\xb5\\xd1\\x80\\xd1\\x81\\xd0\\xbe\\xd0\\xbd\\xd0\\xb0\\xd0\\xbb\\xd1\\x8c\\xd0\\xbd\\xd1\\x8b\\xd0\\xb5 \\xd0\\xbf\\xd0\\xbe\\xd0\\xbc\\xd0\\xbe\\xd1\\x89\\xd0\\xbd\\xd0\\xb8\\xd0\\xba\\xd0\\xb8 \\xd0\\xb0\\xd0\\xb3\\xd1\\x80\\xd0\\xb5\\xd0\\xb3\\xd0\\xb0\\xd1\\x82\\xd0\\xbe\\xd1\\x80\\xd1\\x8b\\xd0\\x9e\\xd0\\xb1\\xd1\\x80\\xd0\\xb0\\xd0\\xb1\\xd0\\xbe\\xd1\\x82\\xd0\\xba\\xd0\\xb0 \\xd0\\xbf\\xd1\\x80\\xd0\\xb5\\xd0\\xbe\\xd0\\xb1\\xd1\\x80\\xd0\\xb0\\xd0\\xb7\\xd0\\xbe\\xd0\\xb2\\xd0\\xb0\\xd0\\xbd\\xd0\\xb8\\xd0\\xb5 \\xd0\\xb8\\xd0\\xbd\\xd1\\x84\\xd0\\xbe\\xd1\\x80\\xd0\\xbc\\xd0\\xb0\\xd1\\x86\\xd0\\xb8\\xd0\\xb8\\xd0\\x98\\xd0\\xbd\\xd1\\x82\\xd0\\xb5\\xd0\\xbb\\xd0\\xbb\\xd0\\xb5\\xd0\\xba\\xd1\\x82\\xd1\\x83\\xd0\\xb0\\xd0\\xbb\\xd1\\x8c\\xd0\\xbd\\xd1\\x8b\\xd0\\xb5 \\xd1\\x81\\xd0\\xb8\\xd1\\x81\\xd1\\x82\\xd0\\xb5\\xd0\\xbc\\xd1\\x8b \\xd1\\x83\\xd0\\xbf\\xd1\\x80\\xd0\\xb0\\xd0\\xb2\\xd0\\xbb\\xd0\\xb5\\xd0\\xbd\\xd0\\xb8\\xd1\\x8f\\xd0\\xa1\\xd0\\xb8\\xd1\\x81\\xd1\\x82\\xd0\\xb5\\xd0\\xbc\\xd1\\x8b \\xd0\\xbf\\xd0\\xbb\\xd0\\xb0\\xd0\\xbd\\xd0\\xb8\\xd1\\x80\\xd0\\xbe\\xd0\\xb2\\xd0\\xb0\\xd0\\xbd\\xd0\\xb8\\xd1\\x8f \\xd1\\x80\\xd0\\xb5\\xd1\\x81\\xd1\\x83\\xd1\\x80\\xd1\\x81\\xd0\\xbe\\xd0\\xb2 \\xd0\\xbf\\xd1\\x80\\xd0\\xb5\\xd0\\xb4\\xd0\\xbf\\xd1\\x80\\xd0\\xb8\\xd1\\x8f\\xd1\\x82\\xd0\\xb8\\xd0\\xb9 (ERP)'\n",
            "Label 15\n",
            "Review b'\\xd0\\x9e\\xd1\\x80\\xd0\\xb3\\xd0\\xb0\\xd0\\xbd\\xd0\\xb8\\xd0\\xb7\\xd0\\xb0\\xd1\\x86\\xd0\\xb8\\xd1\\x8f \\xd0\\xb2\\xd0\\xb5\\xd0\\xb4\\xd0\\xb5\\xd1\\x82 \\xd0\\xb4\\xd0\\xb5\\xd1\\x8f\\xd1\\x82\\xd0\\xb5\\xd0\\xbb\\xd1\\x8c\\xd0\\xbd\\xd0\\xbe\\xd1\\x81\\xd1\\x82\\xd1\\x8c \\xd0\\xbe\\xd0\\xb1\\xd0\\xbb\\xd0\\xb0\\xd1\\x81\\xd1\\x82\\xd0\\xb8 \\xd0\\x9d\\xd0\\x98\\xd0\\x9e\\xd0\\x9a\\xd0\\xa0.\\xd0\\xa1\\xd0\\x95\\xd0\\x9b\\xd0\\xac\\xd0\\xa1\\xd0\\x9a\\xd0\\x9e\\xd0\\x95 \\xd0\\xa5\\xd0\\x9e\\xd0\\x97\\xd0\\xaf\\xd0\\x99\\xd0\\xa1\\xd0\\xa2\\xd0\\x92\\xd0\\x9e (\\xd0\\x92\\xd0\\x9a\\xd0\\x9b\\xd0\\xae\\xd0\\xa7\\xd0\\x90\\xd0\\xaf \\xd0\\xa0\\xd0\\xab\\xd0\\x91\\xd0\\x9e\\xd0\\x9b\\xd0\\x9e\\xd0\\x92\\xd0\\xa1\\xd0\\xa2\\xd0\\x92\\xd0\\x9e)\\xd0\\xa0\\xd0\\xb0\\xd1\\x81\\xd1\\x82\\xd0\\xb5\\xd0\\xbd\\xd0\\xb8\\xd0\\xb5\\xd0\\xb2\\xd0\\xbe\\xd0\\xb4\\xd1\\x81\\xd1\\x82\\xd0\\xb2\\xd0\\xbe\\xd0\\xa1\\xd0\\xb1\\xd0\\xbe\\xd1\\x80 \\xd0\\xb8\\xd0\\xbd\\xd1\\x84\\xd0\\xbe\\xd1\\x80\\xd0\\xbc\\xd0\\xb0\\xd1\\x86\\xd0\\xb8\\xd0\\xb8 \\xd0\\xbe\\xd0\\xb1\\xd1\\x8a\\xd0\\xb5\\xd0\\xba\\xd1\\x82\\xd0\\xb5\\xd0\\x98\\xd1\\x81\\xd1\\x81\\xd0\\xbb\\xd0\\xb5\\xd0\\xb4\\xd0\\xbe\\xd0\\xb2\\xd0\\xb0\\xd0\\xbd\\xd0\\xb8\\xd1\\x8f \\xd0\\xb6\\xd0\\xb8\\xd0\\xb2\\xd1\\x8b\\xd1\\x85 \\xd0\\xbc\\xd0\\xbe\\xd0\\xb4\\xd0\\xb5\\xd0\\xbb\\xd1\\x8f\\xd1\\x85\\xd0\\x98\\xd1\\x81\\xd1\\x81\\xd0\\xbb\\xd0\\xb5\\xd0\\xb4\\xd0\\xbe\\xd0\\xb2\\xd0\\xb0\\xd0\\xbd\\xd0\\xb8\\xd1\\x8f \\xd0\\xba\\xd0\\xbb\\xd0\\xb5\\xd1\\x82\\xd0\\xbe\\xd1\\x87\\xd0\\xbd\\xd1\\x8b\\xd1\\x85 \\xd0\\xba\\xd1\\x83\\xd0\\xbb\\xd1\\x8c\\xd1\\x82\\xd1\\x83\\xd1\\x80\\xd0\\xb0\\xd1\\x85'\n",
            "Label 12\n",
            "Review b'\\xd0\\xa0\\xd0\\xb0\\xd0\\xb7\\xd1\\x80\\xd0\\xb0\\xd0\\xb1\\xd0\\xbe\\xd1\\x82\\xd0\\xba\\xd0\\xb0 \\xd0\\xbc\\xd0\\xb5\\xd0\\xbb\\xd0\\xba\\xd0\\xbe\\xd1\\x81\\xd0\\xb5\\xd1\\x80\\xd0\\xb8\\xd0\\xb9\\xd0\\xbd\\xd0\\xbe\\xd0\\xb5 \\xd0\\xbf\\xd1\\x80\\xd0\\xbe\\xd0\\xb8\\xd0\\xb7\\xd0\\xb2\\xd0\\xbe\\xd0\\xb4\\xd1\\x81\\xd1\\x82\\xd0\\xb2\\xd0\\xbe \\xd0\\xb2\\xd1\\x8b\\xd1\\x81\\xd0\\xbe\\xd0\\xba\\xd0\\xbe\\xd1\\x87\\xd0\\xb0\\xd1\\x81\\xd1\\x82\\xd0\\xbe\\xd1\\x82\\xd0\\xbd\\xd0\\xbe\\xd0\\xb9 \\xd0\\xb0\\xd0\\xbf\\xd0\\xbf\\xd0\\xb0\\xd1\\x80\\xd0\\xb0\\xd1\\x82\\xd1\\x83\\xd1\\x80\\xd1\\x8b \\xd0\\xb1\\xd0\\xbe\\xd0\\xbb\\xd1\\x8c\\xd1\\x88\\xd0\\xbe\\xd0\\xb9 \\xd0\\xbc\\xd0\\xbe\\xd1\\x89\\xd0\\xbd\\xd0\\xbe\\xd1\\x81\\xd1\\x82\\xd0\\xb8. \\xd0\\xbe\\xd1\\x81\\xd0\\xbd\\xd0\\xbe\\xd0\\xb2\\xd0\\xbd\\xd0\\xb0\\xd1\\x8f \\xd0\\xbf\\xd1\\x80\\xd0\\xbe\\xd0\\xb4\\xd1\\x83\\xd0\\xba\\xd1\\x86\\xd0\\xb8\\xd1\\x8f  - \\xd0\\xb2\\xd1\\x8b\\xd1\\x81\\xd0\\xbe\\xd0\\xba\\xd0\\xbe\\xd1\\x87\\xd0\\xb0\\xd1\\x81\\xd1\\x82\\xd0\\xbe\\xd1\\x82\\xd0\\xbd\\xd1\\x8b\\xd0\\xb5 \\xd0\\xb3\\xd0\\xb5\\xd0\\xbd\\xd0\\xb5\\xd1\\x80\\xd0\\xb0\\xd1\\x82\\xd0\\xbe\\xd1\\x80\\xd1\\x8b \\xd0\\xb8\\xd0\\xbe\\xd0\\xbd\\xd0\\xbd\\xd0\\xbe-\\xd0\\xbf\\xd0\\xbb\\xd0\\xb0\\xd0\\xb7\\xd0\\xbc\\xd0\\xb5\\xd0\\xbd\\xd0\\xbd\\xd1\\x8b\\xd1\\x85 \\xd0\\xbd\\xd0\\xb0\\xd0\\xb3\\xd1\\x80\\xd1\\x83\\xd0\\xb7\\xd0\\xbe\\xd0\\xba. \\xd0\\x9f\\xd1\\x80\\xd0\\xb8\\xd0\\xbc\\xd0\\xb5\\xd0\\xbd\\xd0\\xb5\\xd0\\xbd\\xd0\\xb8\\xd0\\xb5:\\n- \\xd0\\xb8\\xd1\\x81\\xd1\\x82\\xd0\\xbe\\xd1\\x87\\xd0\\xbd\\xd0\\xb8\\xd0\\xba\\xd0\\xb8 \\xd0\\x92\\xd0\\xa7 \\xd0\\xbf\\xd0\\xb8\\xd1\\x82\\xd0\\xb0\\xd0\\xbd\\xd0\\xb8\\xd1\\x8f \\xd0\\xb3\\xd0\\xb0\\xd0\\xb7\\xd0\\xbe\\xd0\\xb2\\xd1\\x8b\\xd1\\x85 \\xd0\\xbb\\xd0\\xb0\\xd0\\xb7\\xd0\\xb5\\xd1\\x80\\xd0\\xbe\\xd0\\xb2\\n- \\xd0\\xb8\\xd1\\x81\\xd1\\x82\\xd0\\xbe\\xd1\\x87\\xd0\\xbd\\xd0\\xb8\\xd0\\xba\\xd0\\xb8 \\xd0\\x92\\xd0\\xa7 \\xd0\\xbf\\xd0\\xbe\\xd0\\xbb\\xd1\\x8f \\xd1\\x80\\xd0\\xb0\\xd0\\xb7\\xd0\\xb3\\xd0\\xbe\\xd0\\xbd\\xd0\\xbd\\xd1\\x8b\\xd1\\x85 \\xd1\\x81\\xd0\\xb5\\xd0\\xba\\xd1\\x86\\xd0\\xb8\\xd0\\xb9 \\xd1\\x83\\xd1\\x81\\xd0\\xba\\xd0\\xbe\\xd1\\x80\\xd0\\xb8\\xd1\\x82\\xd0\\xb5\\xd0\\xbb\\xd0\\xb5\\xd0\\xb9 \\xd0\\xb7\\xd0\\xb0\\xd1\\x80\\xd1\\x8f\\xd0\\xb6\\xd0\\xb5\\xd0\\xbd\\xd0\\xbd\\xd1\\x8b\\xd1\\x85 \\xd1\\x87\\xd0\\xb0\\xd1\\x81\\xd1\\x82\\xd0\\xb8\\xd1\\x86\\n- \\xd0\\xb8\\xd1\\x81\\xd1\\x82\\xd0\\xbe\\xd1\\x87\\xd0\\xbd\\xd0\\xb8\\xd0\\xba\\xd0\\xb8 \\xd0\\x92\\xd0\\xa7 \\xd1\\x8d\\xd0\\xbd\\xd0\\xb5\\xd1\\x80\\xd0\\xb3\\xd0\\xb8\\xd0\\xb8 \\xd0\\xb8\\xd0\\xbe\\xd0\\xbd\\xd0\\xbd\\xd0\\xbe-\\xd0\\xbf\\xd0\\xbb\\xd0\\xb0\\xd0\\xb7\\xd0\\xbc\\xd0\\xb5\\xd0\\xbd\\xd0\\xbd\\xd1\\x8b\\xd1\\x85 \\xd1\\x82\\xd0\\xb5\\xd1\\x85\\xd0\\xbd\\xd0\\xbe\\xd0\\xbb\\xd0\\xbe\\xd0\\xb3\\xd0\\xb8\\xd1\\x87\\xd0\\xb5\\xd1\\x81\\xd0\\xba\\xd0\\xb8\\xd1\\x85 \\xd1\\x83\\xd1\\x81\\xd1\\x82\\xd0\\xb0\\xd0\\xbd\\xd0\\xbe\\xd0\\xb2\\xd0\\xbe\\xd0\\xba\\n- \\xd0\\xb8\\xd1\\x81\\xd1\\x82\\xd0\\xbe\\xd1\\x87\\xd0\\xbd\\xd0\\xb8\\xd0\\xba\\xd0\\xb8 \\xd0\\x92\\xd0\\xa7 \\xd1\\x8d\\xd0\\xbd\\xd0\\xb5\\xd1\\x80\\xd0\\xb3\\xd0\\xb8\\xd0\\xb8 \\xd0\\xb8\\xd0\\xbe\\xd0\\xbd\\xd0\\xbd\\xd0\\xbe-\\xd0\\xbf\\xd0\\xbb\\xd0\\xb0\\xd0\\xb7\\xd0\\xbc\\xd0\\xb5\\xd0\\xbd\\xd0\\xbd\\xd1\\x8b\\xd1\\x85 \\xd1\\x80\\xd0\\xb0\\xd0\\xba\\xd0\\xb5\\xd1\\x82\\xd0\\xbd\\xd1\\x8b\\xd1\\x85 \\xd0\\xb4\\xd0\\xb2\\xd0\\xb8\\xd0\\xb3\\xd0\\xb0\\xd1\\x82\\xd0\\xb5\\xd0\\xbb\\xd0\\xb5\\xd0\\xb9 (\\xd0\\x98\\xd0\\x9f\\xd0\\x94, \\xd0\\xad\\xd0\\xa0\\xd0\\x94)\\n- \\xd0\\xb8\\xd1\\x81\\xd1\\x82\\xd0\\xbe\\xd1\\x87\\xd0\\xbd\\xd0\\xb8\\xd0\\xba\\xd0\\xb8 \\xd0\\x92\\xd0\\xa7 \\xd1\\x8d\\xd0\\xbd\\xd0\\xb5\\xd1\\x80\\xd0\\xb3\\xd0\\xb8\\xd0\\xb8 \\xd1\\x81\\xd1\\x83\\xd1\\x88\\xd0\\xb8\\xd0\\xbb\\xd1\\x8c\\xd0\\xbd\\xd1\\x8b\\xd1\\x85 \\xd0\\xba\\xd0\\xb0\\xd0\\xbc\\xd0\\xb5\\xd1\\x80\\n- \\xd0\\xba\\xd0\\xbe\\xd0\\xbc\\xd0\\xbf\\xd0\\xbe\\xd0\\xbd\\xd0\\xb5\\xd0\\xbd\\xd1\\x82\\xd1\\x8b \\xd0\\xbc\\xd0\\xb5\\xd0\\xb4\\xd0\\xb8\\xd1\\x86\\xd0\\xb8\\xd0\\xbd\\xd1\\x81\\xd0\\xba\\xd0\\xbe\\xd0\\xb3\\xd0\\xbe \\xd0\\xbe\\xd0\\xb1\\xd0\\xbe\\xd0\\x9f\\xd0\\xa0\\xd0\\x9e\\xd0\\x9c\\xd0\\xab\\xd0\\xa8\\xd0\\x9b\\xd0\\x95\\xd0\\x9d\\xd0\\x9d\\xd0\\x9e\\xd0\\xa1\\xd0\\xa2\\xd0\\xac\\xd0\\x9f\\xd1\\x80\\xd0\\xbe\\xd0\\xb8\\xd0\\xb7\\xd0\\xb2\\xd0\\xbe\\xd0\\xb4\\xd1\\x81\\xd1\\x82\\xd0\\xb2\\xd0\\xbe \\xd1\\x8d\\xd0\\xbb\\xd0\\xb5\\xd0\\xba\\xd1\\x82\\xd1\\x80\\xd0\\xbe\\xd0\\xbd\\xd0\\xbd\\xd0\\xbe\\xd0\\xb3\\xd0\\xbe \\xd1\\x8d\\xd0\\xbb\\xd0\\xb5\\xd0\\xba\\xd1\\x82\\xd1\\x80\\xd0\\xb8\\xd1\\x87\\xd0\\xb5\\xd1\\x81\\xd0\\xba\\xd0\\xbe\\xd0\\xb3\\xd0\\xbe \\xd0\\xbe\\xd0\\xb1\\xd0\\xbe\\xd1\\x80\\xd1\\x83\\xd0\\xb4\\xd0\\xbe\\xd0\\xb2\\xd0\\xb0\\xd0\\xbd\\xd0\\xb8\\xd1\\x8f\\xd0\\xa1\\xd0\\xb8\\xd0\\xbd\\xd1\\x82\\xd0\\xb5\\xd0\\xb7 \\xd0\\xbc\\xd0\\xb0\\xd1\\x82\\xd0\\xb5\\xd1\\x80\\xd0\\xb8\\xd0\\xb0\\xd0\\xbb\\xd1\\x8c\\xd0\\xbd\\xd1\\x8b\\xd1\\x85 \\xd0\\xbe\\xd0\\xb1\\xd1\\x8a\\xd0\\xb5\\xd0\\xba\\xd1\\x82\\xd0\\xbe\\xd0\\xb2\\xd0\\x98\\xd0\\xbd\\xd0\\xb6\\xd0\\xb5\\xd0\\xbd\\xd0\\xb5\\xd1\\x80\\xd0\\xbd\\xd1\\x8b\\xd0\\xb5 \\xd0\\xba\\xd0\\xbe\\xd0\\xbc\\xd0\\xbf\\xd0\\xbb\\xd0\\xb5\\xd0\\xba\\xd1\\x81\\xd1\\x8b\\xd0\\x93\\xd0\\xb5\\xd0\\xbd\\xd0\\xb5\\xd1\\x80\\xd0\\xb0\\xd1\\x82\\xd0\\xbe\\xd1\\x80\\xd1\\x8b \\xd0\\xbf\\xd0\\xbb\\xd0\\xb0\\xd0\\xb7\\xd0\\xbc\\xd1\\x8b \\xd1\\x81\\xd0\\xb8\\xd1\\x81\\xd1\\x82\\xd0\\xb5\\xd0\\xbc\\xd1\\x8b \\xd0\\xbe\\xd1\\x81\\xd0\\xbd\\xd0\\xbe\\xd0\\xb2\\xd0\\xb5'\n",
            "Label 8\n"
          ]
        }
      ]
    },
    {
      "cell_type": "code",
      "source": [
        "# Слой векторизации слов для обучения\n",
        "import re\n",
        "import string\n",
        "\n",
        "max_features = 10000\n",
        "sequence_length = 100\n",
        "\n",
        "\n",
        "vectorize_layer = tf.keras.layers.TextVectorization (\n",
        "    split='whitespace',\n",
        "    ngrams=True,\n",
        "    max_tokens=max_features,\n",
        "    output_mode='int',\n",
        "    output_sequence_length=sequence_length)"
      ],
      "metadata": {
        "id": "fxMuUuAv8wpr",
        "colab": {
          "base_uri": "https://localhost:8080/",
          "height": 235
        },
        "outputId": "da33cc9e-bc46-4004-e58b-f8f59f5677d3"
      },
      "execution_count": null,
      "outputs": [
        {
          "output_type": "error",
          "ename": "NameError",
          "evalue": "ignored",
          "traceback": [
            "\u001b[0;31m---------------------------------------------------------------------------\u001b[0m",
            "\u001b[0;31mNameError\u001b[0m                                 Traceback (most recent call last)",
            "\u001b[0;32m<ipython-input-2-c20dc69b058d>\u001b[0m in \u001b[0;36m<module>\u001b[0;34m\u001b[0m\n\u001b[1;32m      7\u001b[0m \u001b[0;34m\u001b[0m\u001b[0m\n\u001b[1;32m      8\u001b[0m \u001b[0;34m\u001b[0m\u001b[0m\n\u001b[0;32m----> 9\u001b[0;31m vectorize_layer = tf.keras.layers.TextVectorization (\n\u001b[0m\u001b[1;32m     10\u001b[0m     \u001b[0msplit\u001b[0m\u001b[0;34m=\u001b[0m\u001b[0;34m'whitespace'\u001b[0m\u001b[0;34m,\u001b[0m\u001b[0;34m\u001b[0m\u001b[0;34m\u001b[0m\u001b[0m\n\u001b[1;32m     11\u001b[0m     \u001b[0mngrams\u001b[0m\u001b[0;34m=\u001b[0m\u001b[0;32mTrue\u001b[0m\u001b[0;34m,\u001b[0m\u001b[0;34m\u001b[0m\u001b[0;34m\u001b[0m\u001b[0m\n",
            "\u001b[0;31mNameError\u001b[0m: name 'tf' is not defined"
          ]
        }
      ]
    },
    {
      "cell_type": "code",
      "source": [
        "# Make a text-only dataset (without labels), then call adapt\n",
        "train_text = raw_train_ds.map(lambda x, y: x)\n",
        "vectorize_layer.adapt(train_text)"
      ],
      "metadata": {
        "id": "IEwe5Mr1Tg0p"
      },
      "execution_count": null,
      "outputs": []
    },
    {
      "cell_type": "code",
      "source": [
        "def vectorize_text(text, label):\n",
        "  text = tf.expand_dims(text, -1)\n",
        "  return vectorize_layer(text), label"
      ],
      "metadata": {
        "id": "Cl_X3AllT2h8"
      },
      "execution_count": null,
      "outputs": []
    },
    {
      "cell_type": "code",
      "source": [
        "# retrieve a batch (of 32 reviews and labels) from the dataset\n",
        "text_batch, label_batch = next(iter(raw_train_ds))\n",
        "first_review, first_label = text_batch[0], label_batch[0]\n",
        "print(\"Review\", first_review)\n",
        "print(\"Label\", raw_train_ds.class_names[first_label])\n",
        "print(\"Vectorized review\", vectorize_text(first_review, first_label))"
      ],
      "metadata": {
        "colab": {
          "base_uri": "https://localhost:8080/"
        },
        "id": "LhRQaymUT4qX",
        "outputId": "051a998c-15eb-4baf-9231-33b3481e953b"
      },
      "execution_count": null,
      "outputs": [
        {
          "output_type": "stream",
          "name": "stdout",
          "text": [
            "Review tf.Tensor(b'\\xd0\\x9a\\xd0\\xbe\\xd0\\xbc\\xd0\\xbf\\xd0\\xb0\\xd0\\xbd\\xd0\\xb8\\xd1\\x8f \\xd0\\x9e\\xd0\\x9e\\xd0\\x9e \"\\xd0\\xa2\\xd0\\xb5\\xd0\\xbb\\xd0\\xb5\\xd0\\xbf\\xd0\\xbe\\xd1\\x80\\xd1\\x82 \\xd0\\xa0\\xd1\\x83\\xd1\\x81\\xd1\\x8c\" \\xd1\\x80\\xd0\\xb0\\xd0\\xb7\\xd1\\x80\\xd0\\xb0\\xd0\\xb1\\xd0\\xb0\\xd1\\x82\\xd1\\x8b\\xd0\\xb2\\xd0\\xb0\\xd0\\xb5\\xd1\\x82 \\xd0\\xb2\\xd0\\xbd\\xd0\\xb5\\xd0\\xb4\\xd1\\x80\\xd1\\x8f\\xd0\\xb5\\xd1\\x82 \\xd1\\x80\\xd0\\xb5\\xd1\\x88\\xd0\\xb5\\xd0\\xbd\\xd0\\xb8\\xd0\\xb5 Teleport Media. \\xd0\\xad\\xd1\\x82\\xd0\\xbe \\xd0\\xbf\\xd0\\xb8\\xd1\\x80\\xd0\\xb8\\xd0\\xbd\\xd0\\xb3\\xd0\\xbe\\xd0\\xb2\\xd0\\xb0\\xd1\\x8f CDN \\xd0\\xbe\\xd0\\xbd\\xd0\\xbb\\xd0\\xb0\\xd0\\xb9\\xd0\\xbd \\xd0\\xa2\\xd0\\x92 \\xd1\\x81\\xd0\\xb5\\xd1\\x80\\xd0\\xb2\\xd0\\xb8\\xd1\\x81\\xd0\\xbe\\xd0\\xb2 \\xd0\\xb2\\xd0\\xb8\\xd0\\xb4\\xd0\\xb5\\xd0\\xbe \\xd0\\xb7\\xd0\\xb0\\xd0\\xbf\\xd1\\x80\\xd0\\xbe\\xd1\\x81\\xd1\\x83, \\xd0\\xba\\xd0\\xbe\\xd1\\x82\\xd0\\xbe\\xd1\\x80\\xd1\\x8b\\xd0\\xb5 \\xd0\\xb7\\xd0\\xb0\\xd0\\xb8\\xd0\\xbd\\xd1\\x82\\xd0\\xb5\\xd1\\x80\\xd0\\xb5\\xd1\\x81\\xd0\\xbe\\xd0\\xb2\\xd0\\xb0\\xd0\\xbd\\xd1\\x8b \\xd0\\xbd\\xd0\\xb5\\xd0\\xb4\\xd0\\xbe\\xd1\\x80\\xd0\\xbe\\xd0\\xb3\\xd0\\xbe\\xd0\\xbc, \\xd1\\x8d\\xd1\\x84\\xd1\\x84\\xd0\\xb5\\xd0\\xba\\xd1\\x82\\xd0\\xb8\\xd0\\xb2\\xd0\\xbd\\xd0\\xbe\\xd0\\xbc, \\xd0\\xbc\\xd0\\xb0\\xd1\\x81\\xd1\\x88\\xd1\\x82\\xd0\\xb0\\xd0\\xb1\\xd0\\xb8\\xd1\\x80\\xd1\\x83\\xd0\\xb5\\xd0\\xbc\\xd0\\xbe\\xd0\\xbc CDN. \\xd0\\x92 \\xd0\\xbe\\xd1\\x82\\xd0\\xbb\\xd0\\xb8\\xd1\\x87\\xd0\\xb8\\xd0\\xb5 \\xd0\\xbb\\xd1\\x8e\\xd0\\xb1\\xd1\\x8b\\xd1\\x85 \\xd1\\x82\\xd1\\x80\\xd0\\xb0\\xd0\\xb4\\xd0\\xb8\\xd1\\x86\\xd0\\xb8\\xd0\\xbe\\xd0\\xbd\\xd0\\xbd\\xd1\\x8b\\xd1\\x85 CDN, \\xd0\\xba\\xd0\\xbe\\xd1\\x82\\xd0\\xbe\\xd1\\x80\\xd1\\x8b\\xd0\\xb5 \\xd0\\xb8\\xd0\\xbc\\xd0\\xb5\\xd1\\x8e\\xd1\\x82 \\xd0\\xbe\\xd0\\xb3\\xd1\\x80\\xd0\\xb0\\xd0\\xbd\\xd0\\xb8\\xd1\\x87\\xd0\\xb5\\xd0\\xbd\\xd0\\xbd\\xd0\\xbe\\xd0\\xb5 \\xd0\\xba\\xd0\\xbe\\xd0\\xbb\\xd0\\xb8\\xd1\\x87\\xd0\\xb5\\xd1\\x81\\xd1\\x82\\xd0\\xb2\\xd0\\xbe \\xd1\\x81\\xd0\\xb5\\xd1\\x80\\xd0\\xb2\\xd0\\xb5\\xd1\\x80\\xd0\\xbe\\xd0\\xb2 \\xd0\\xbe\\xd0\\xb3\\xd1\\x80\\xd0\\xb0\\xd0\\xbd\\xd0\\xb8\\xd1\\x87\\xd0\\xb5\\xd0\\xbd\\xd0\\xbd\\xd1\\x83\\xd1\\x8e \\xd0\\xbf\\xd1\\x80\\xd0\\xbe\\xd0\\xbf\\xd1\\x83\\xd1\\x81\\xd0\\xba\\xd0\\xbd\\xd1\\x83\\xd1\\x8e \\xd1\\x81\\xd0\\xbf\\xd0\\xbe\\xd1\\x81\\xd0\\xbe\\xd0\\xb1\\xd0\\xbd\\xd0\\xbe\\xd1\\x81\\xd1\\x82\\xd1\\x8c, \\xd0\\xbf\\xd0\\xb8\\xd1\\x80\\xd0\\xb8\\xd0\\xbd\\xd0\\xb3\\xd0\\xbe\\xd0\\xb2\\xd0\\xb0\\xd1\\x8f CDN \\xd0\\xa2\\xd0\\xb5\\xd0\\xbb\\xd0\\xb5\\xd0\\xbf\\xd0\\xbe\\xd1\\x80\\xd1\\x82 \\xd0\\xbc\\xd0\\xb0\\xd1\\x81\\xd1\\x88\\xd1\\x82\\xd0\\xb0\\xd0\\xb1\\xd0\\xb8\\xd1\\x80\\xd1\\x83\\xd0\\xb5\\xd1\\x82\\xd1\\x81\\xd1\\x8f \\xd1\\x81\\xd0\\xbe\\xd0\\xbe\\xd1\\x82\\xd0\\xb2\\xd0\\xb5\\xd1\\x82\\xd1\\x81\\xd1\\x82\\xd0\\xb2\\xd0\\xb8\\xd0\\xb8 \\xd1\\x80\\xd0\\xbe\\xd1\\x81\\xd1\\x82\\xd0\\xbe\\xd0\\xbc \\xd0\\xb0\\xd1\\x83\\xd0\\xb4\\xd0\\xb8\\xd1\\x82\\xd0\\xbe\\xd1\\x80\\xd0\\xb8\\xd0\\xb8. \\xd0\\x9a\\xd0\\xb0\\xd0\\xb6\\xd0\\xb4\\xd1\\x8b\\xd0\\xb9 \\xd0\\xbd\\xd0\\xbe\\xd0\\xb2\\xd1\\x8b\\xd0\\xb9 \\xd0\\xb7\\xd1\\x80\\xd0\\xb8\\xd1\\x82\\xd0\\xb5\\xd0\\xbb\\xd1\\x8c \\xd0\\xb4\\xd0\\xb5\\xd0\\xb9\\xd1\\x81\\xd1\\x82\\xd0\\xb2\\xd1\\x83\\xd0\\xb5\\xd1\\x82 \\xc2\\xab\\xd0\\xbc\\xd0\\xb8\\xd0\\xba\\xd1\\x80\\xd0\\xbe-edge-\\xd1\\x81\\xd0\\xb5\\xd1\\x80\\xd0\\xb2\\xd0\\xb5\\xd1\\x80\\xc2\\xbb, \\xd0\\xbe\\xd1\\x82\\xd0\\xb3\\xd1\\x80\\xd1\\x83\\xd0\\xb6\\xd0\\xb0\\xd1\\x8e\\xd1\\x89\\xd0\\xb8\\xd0\\xb9 \\xd0\\xba\\xd0\\xbe\\xd0\\xbd\\xd1\\x82\\xd0\\xb5\\xd0\\xbd\\xd1\\x82 \\xd0\\xb4\\xd1\\x80\\xd1\\x83\\xd0\\xb3\\xd0\\xb8\\xd0\\xbc \\xd0\\xb7\\xd1\\x80\\xd0\\xa2\\xd0\\x95\\xd0\\x9b\\xd0\\x95\\xd0\\x9a\\xd0\\x9e\\xd0\\x9c\\xd0\\x9c\\xd0\\xa3\\xd0\\x9d\\xd0\\x98\\xd0\\x9a\\xd0\\x90\\xd0\\xa6\\xd0\\x98\\xd0\\x98 \\xd0\\x98 \\xd0\\x98\\xd0\\x9d\\xd0\\xa2\\xd0\\x95\\xd0\\xa0\\xd0\\x9d\\xd0\\x95\\xd0\\xa2\\xd0\\xa1\\xd0\\xbf\\xd0\\xb5\\xd1\\x86\\xd0\\xb8\\xd0\\xb0\\xd0\\xbb\\xd0\\xb8\\xd0\\xb7\\xd0\\xb8\\xd1\\x80\\xd0\\xbe\\xd0\\xb2\\xd0\\xb0\\xd0\\xbd\\xd0\\xbd\\xd1\\x8b\\xd0\\xb5 \\xd0\\xb8\\xd0\\xbd\\xd1\\x84\\xd0\\xbe\\xd1\\x80\\xd0\\xbc\\xd0\\xb0\\xd1\\x86\\xd0\\xb8\\xd0\\xbe\\xd0\\xbd\\xd0\\xbd\\xd1\\x8b\\xd0\\xb5 \\xd1\\x81\\xd0\\xb8\\xd1\\x81\\xd1\\x82\\xd0\\xb5\\xd0\\xbc\\xd1\\x8b\\xd0\\x9e\\xd0\\xb1\\xd1\\x80\\xd0\\xb0\\xd0\\xb1\\xd0\\xbe\\xd1\\x82\\xd0\\xba\\xd0\\xb0 \\xd0\\xbf\\xd1\\x80\\xd0\\xb5\\xd0\\xbe\\xd0\\xb1\\xd1\\x80\\xd0\\xb0\\xd0\\xb7\\xd0\\xbe\\xd0\\xb2\\xd0\\xb0\\xd0\\xbd\\xd0\\xb8\\xd0\\xb5 \\xd0\\xb8\\xd0\\xbd\\xd1\\x84\\xd0\\xbe\\xd1\\x80\\xd0\\xbc\\xd0\\xb0\\xd1\\x86\\xd0\\xb8\\xd0\\xb8\\xd0\\x9f\\xd0\\xb5\\xd1\\x80\\xd0\\xb5\\xd0\\xb4\\xd0\\xb0\\xd1\\x87\\xd0\\xb0 \\xd0\\xb4\\xd0\\xb0\\xd0\\xbd\\xd0\\xbd\\xd1\\x8b\\xd1\\x85\\xd0\\x9e\\xd0\\xb4\\xd0\\xbd\\xd0\\xbe\\xd1\\x80\\xd0\\xb0\\xd0\\xbd\\xd0\\xb3\\xd0\\xbe\\xd0\\xb2\\xd1\\x8b\\xd0\\xb5 \\xd1\\x81\\xd0\\xb5\\xd1\\x82\\xd0\\xb8 \\xd0\\xbf\\xd1\\x80\\xd0\\xbe\\xd0\\xb8\\xd0\\xb7\\xd0\\xb2\\xd0\\xbe\\xd0\\xb4\\xd0\\xbd\\xd1\\x8b\\xd0\\xb5 (Peer2peer networks)', shape=(), dtype=string)\n",
            "Label ТЕЛЕКОММУНИКАЦИИ И ИНТЕРНЕТ\n",
            "Vectorized review (<tf.Tensor: shape=(1, 100), dtype=int64, numpy=\n",
            "array([[   5,    3,    1,    1,   95,  784,  416,    1,    1,  787,    1,\n",
            "        2161,  356,    1,  435,  884,    1,  201,    1,    1,    1,    1,\n",
            "        2161,   28,    1, 1086, 4847, 2161,  201,  495,    1, 1011,    1,\n",
            "           1,    1, 4983,    1, 2161,    1,    1, 1214,    1, 3158, 3254,\n",
            "        1250,    1,    1,    1,    1,    1,    1,    1,    2,   40,   24,\n",
            "          72,    7,  132, 4166,  377, 3648, 4522, 4523,    0,    0,    0,\n",
            "           0,    0,    0,    0,    0,    0,    0,    0,    0,    0,    0,\n",
            "           0,    0,    0,    0,    0,    0,    0,    0,    0,    0,    0,\n",
            "           0,    0,    0,    0,    0,    0,    0,    0,    0,    0,    0,\n",
            "           0]])>, <tf.Tensor: shape=(), dtype=int32, numpy=15>)\n"
          ]
        }
      ]
    },
    {
      "cell_type": "code",
      "source": [
        "def create_model(max_features, embedding_dim, class_counts):\n",
        "  model = tf.keras.Sequential([\n",
        "   tf.keras.layers.Embedding(max_features + 1, embedding_dim),\n",
        "    tf.keras.layers.Conv1D(64, 5, activation='relu'),\n",
        "    tf.keras.layers.GlobalMaxPooling1D(),\n",
        "   tf.keras.layers.Dense(class_counts, activation='sigmoid')])\n",
        "  print(model.summary())\n",
        "  return model\n",
        "\n",
        "model = create_model(5000, 100, 20)\n",
        "model.compile(\n",
        "    loss= tf.keras.losses.SparseCategoricalCrossentropy(), optimizer='adam', metrics=['accuracy']\n",
        ")\n",
        "epochs= 2\n",
        "reduce_lr = tf.keras.callbacks.ReduceLROnPlateau(monitor='val_loss', factor=0.3,\n",
        "                              patience=5, min_lr=0.001)\n",
        "history = model.fit(\n",
        "    train_ds,\n",
        "    validation_data=val_ds,\n",
        "    epochs=epochs,\n",
        "    callbacks=[reduce_lr])"
      ],
      "metadata": {
        "id": "tGX6_G-a84ew",
        "colab": {
          "base_uri": "https://localhost:8080/",
          "height": 356
        },
        "outputId": "e1e9116d-cc54-43d4-c2eb-04e1de5dde94"
      },
      "execution_count": null,
      "outputs": [
        {
          "output_type": "error",
          "ename": "NameError",
          "evalue": "ignored",
          "traceback": [
            "\u001b[0;31m---------------------------------------------------------------------------\u001b[0m",
            "\u001b[0;31mNameError\u001b[0m                                 Traceback (most recent call last)",
            "\u001b[0;32m<ipython-input-1-017f28bde6a9>\u001b[0m in \u001b[0;36m<module>\u001b[0;34m\u001b[0m\n\u001b[1;32m      8\u001b[0m   \u001b[0;32mreturn\u001b[0m \u001b[0mmodel\u001b[0m\u001b[0;34m\u001b[0m\u001b[0;34m\u001b[0m\u001b[0m\n\u001b[1;32m      9\u001b[0m \u001b[0;34m\u001b[0m\u001b[0m\n\u001b[0;32m---> 10\u001b[0;31m \u001b[0mmodel\u001b[0m \u001b[0;34m=\u001b[0m \u001b[0mcreate_model\u001b[0m\u001b[0;34m(\u001b[0m\u001b[0;36m5000\u001b[0m\u001b[0;34m,\u001b[0m \u001b[0;36m100\u001b[0m\u001b[0;34m,\u001b[0m \u001b[0;36m20\u001b[0m\u001b[0;34m)\u001b[0m\u001b[0;34m\u001b[0m\u001b[0;34m\u001b[0m\u001b[0m\n\u001b[0m\u001b[1;32m     11\u001b[0m model.compile(\n\u001b[1;32m     12\u001b[0m     \u001b[0mloss\u001b[0m\u001b[0;34m=\u001b[0m \u001b[0mtf\u001b[0m\u001b[0;34m.\u001b[0m\u001b[0mkeras\u001b[0m\u001b[0;34m.\u001b[0m\u001b[0mlosses\u001b[0m\u001b[0;34m.\u001b[0m\u001b[0mSparseCategoricalCrossentropy\u001b[0m\u001b[0;34m(\u001b[0m\u001b[0;34m)\u001b[0m\u001b[0;34m,\u001b[0m \u001b[0moptimizer\u001b[0m\u001b[0;34m=\u001b[0m\u001b[0;34m'adam'\u001b[0m\u001b[0;34m,\u001b[0m \u001b[0mmetrics\u001b[0m\u001b[0;34m=\u001b[0m\u001b[0;34m[\u001b[0m\u001b[0;34m'accuracy'\u001b[0m\u001b[0;34m]\u001b[0m\u001b[0;34m\u001b[0m\u001b[0;34m\u001b[0m\u001b[0m\n",
            "\u001b[0;32m<ipython-input-1-017f28bde6a9>\u001b[0m in \u001b[0;36mcreate_model\u001b[0;34m(max_features, embedding_dim, class_counts)\u001b[0m\n\u001b[1;32m      1\u001b[0m \u001b[0;32mdef\u001b[0m \u001b[0mcreate_model\u001b[0m\u001b[0;34m(\u001b[0m\u001b[0mmax_features\u001b[0m\u001b[0;34m,\u001b[0m \u001b[0membedding_dim\u001b[0m\u001b[0;34m,\u001b[0m \u001b[0mclass_counts\u001b[0m\u001b[0;34m)\u001b[0m\u001b[0;34m:\u001b[0m\u001b[0;34m\u001b[0m\u001b[0;34m\u001b[0m\u001b[0m\n\u001b[0;32m----> 2\u001b[0;31m   model = tf.keras.Sequential([\n\u001b[0m\u001b[1;32m      3\u001b[0m    \u001b[0mtf\u001b[0m\u001b[0;34m.\u001b[0m\u001b[0mkeras\u001b[0m\u001b[0;34m.\u001b[0m\u001b[0mlayers\u001b[0m\u001b[0;34m.\u001b[0m\u001b[0mEmbedding\u001b[0m\u001b[0;34m(\u001b[0m\u001b[0mmax_features\u001b[0m \u001b[0;34m+\u001b[0m \u001b[0;36m1\u001b[0m\u001b[0;34m,\u001b[0m \u001b[0membedding_dim\u001b[0m\u001b[0;34m)\u001b[0m\u001b[0;34m,\u001b[0m\u001b[0;34m\u001b[0m\u001b[0;34m\u001b[0m\u001b[0m\n\u001b[1;32m      4\u001b[0m     \u001b[0mtf\u001b[0m\u001b[0;34m.\u001b[0m\u001b[0mkeras\u001b[0m\u001b[0;34m.\u001b[0m\u001b[0mlayers\u001b[0m\u001b[0;34m.\u001b[0m\u001b[0mConv1D\u001b[0m\u001b[0;34m(\u001b[0m\u001b[0;36m128\u001b[0m\u001b[0;34m,\u001b[0m \u001b[0;36m5\u001b[0m\u001b[0;34m,\u001b[0m \u001b[0mactivation\u001b[0m\u001b[0;34m=\u001b[0m\u001b[0;34m'relu'\u001b[0m\u001b[0;34m)\u001b[0m\u001b[0;34m,\u001b[0m\u001b[0;34m\u001b[0m\u001b[0;34m\u001b[0m\u001b[0m\n\u001b[1;32m      5\u001b[0m     \u001b[0mtf\u001b[0m\u001b[0;34m.\u001b[0m\u001b[0mkeras\u001b[0m\u001b[0;34m.\u001b[0m\u001b[0mlayers\u001b[0m\u001b[0;34m.\u001b[0m\u001b[0mGlobalMaxPooling1D\u001b[0m\u001b[0;34m(\u001b[0m\u001b[0;34m)\u001b[0m\u001b[0;34m,\u001b[0m\u001b[0;34m\u001b[0m\u001b[0;34m\u001b[0m\u001b[0m\n",
            "\u001b[0;31mNameError\u001b[0m: name 'tf' is not defined"
          ]
        }
      ]
    },
    {
      "cell_type": "code",
      "source": [
        "export_model = tf.keras.Sequential([\n",
        "  vectorize_layer,\n",
        "  model,\n",
        "])\n",
        "\n",
        "export_model.compile(\n",
        "    loss = tf.keras.losses.SparseCategoricalCrossentropy(), optimizer=\"adam\", metrics=['accuracy']\n",
        ")\n",
        "loss, accuracy = export_model.evaluate(raw_test_ds)\n",
        "print(accuracy)"
      ],
      "metadata": {
        "colab": {
          "base_uri": "https://localhost:8080/"
        },
        "id": "WFu2840itrjE",
        "outputId": "76058986-ed78-4923-fcb3-7d96de328a0f"
      },
      "execution_count": null,
      "outputs": [
        {
          "output_type": "stream",
          "name": "stdout",
          "text": [
            "13/13 [==============================] - 10s 757ms/step - loss: 2.1016 - accuracy: 0.4344\n",
            "0.4344472885131836\n"
          ]
        }
      ]
    },
    {
      "cell_type": "code",
      "source": [
        "p = os.listdir('/content/Отрасль')\n",
        "classes_info = {i:p[i] for i in range(len(raw_train_ds.class_names))}\n",
        "dd = ' '.join(company_df[\"Описание компании\"].iloc[31])\n",
        "predicts = export_model.predict([dd])[0]\n",
        "classes_info = {p[i]: predicts[i] for i in range(len(raw_train_ds.class_names))}\n",
        "\n",
        "print(company_df[\"Описание компании\"].iloc[31])\n",
        "print(company_df['Отрасль'].iloc[31])\n",
        "print(max(classes_info))"
      ],
      "metadata": {
        "colab": {
          "base_uri": "https://localhost:8080/"
        },
        "id": "oCZcReHpxPLa",
        "outputId": "a92a4817-07e4-4f7a-adb2-8ae6ac5fc9ff"
      },
      "execution_count": null,
      "outputs": [
        {
          "output_type": "stream",
          "name": "stdout",
          "text": [
            "1/1 [==============================] - 0s 137ms/step\n",
            "Международная компания TgT Oilfield ServiceS занимается промыслово-геофизическими исследованиями, мониторингом месторождений углеводородов и геолого-гидродинамическим моделированием. Компания объединяет несколько проектов, которые являются резидентами Фонда «Сколково» (ООО «МИКС», ООО «Сонограм», ООО «Термосим»), все разработки и производство оборудования проходят на территории России.ООО «МИКС» («Магнитно Импульсные Каротажные Системы») работает над технологией магнитно-импульсного дефектоскопаДОБЫЧА ПОЛЕЗНЫХ ИСКОПАЕМЫХДобыча нефти и природного газаСинтез информацииМоделирование процессов реального мира (цифровые двойники)Моделирование физических процессов\n",
            "ДОБЫЧА ПОЛЕЗНЫХ ИСКОПАЕМЫХ\n",
            "ЭНЕРГЕТИКА\n"
          ]
        }
      ]
    },
    {
      "cell_type": "code",
      "source": [
        "history_dict = history.history\n",
        "history_dict.keys()"
      ],
      "metadata": {
        "colab": {
          "base_uri": "https://localhost:8080/"
        },
        "id": "WDHEer2Cv0qH",
        "outputId": "daf34d60-c29c-4795-bab1-72b5c45d96cc"
      },
      "execution_count": null,
      "outputs": [
        {
          "output_type": "execute_result",
          "data": {
            "text/plain": [
              "dict_keys(['loss', 'accuracy', 'val_loss', 'val_accuracy', 'lr'])"
            ]
          },
          "metadata": {},
          "execution_count": 440
        }
      ]
    },
    {
      "cell_type": "code",
      "source": [
        "acc = history_dict['accuracy']\n",
        "val_acc = history_dict['val_accuracy']\n",
        "loss = history_dict['loss']\n",
        "val_loss = history_dict['val_loss']\n",
        "\n",
        "epochs = range(1, len(acc) + 1)\n",
        "\n",
        "# \"bo\" is for \"blue dot\"\n",
        "plt.plot(epochs, loss, 'bo', label='Training loss')\n",
        "# b is for \"solid blue line\"\n",
        "plt.plot(epochs, val_loss, 'b', label='Validation loss')\n",
        "plt.title('Training and validation loss')\n",
        "plt.xlabel('Epochs')\n",
        "plt.ylabel('Loss')\n",
        "plt.legend()\n",
        "\n",
        "plt.show()"
      ],
      "metadata": {
        "colab": {
          "base_uri": "https://localhost:8080/",
          "height": 295
        },
        "id": "0q0IaX-bvjM6",
        "outputId": "acee8d6f-e71d-43d0-f92f-6cc1e727c17e"
      },
      "execution_count": null,
      "outputs": [
        {
          "output_type": "display_data",
          "data": {
            "text/plain": [
              "<Figure size 432x288 with 1 Axes>"
            ],
            "image/png": "[encoded data removed]"
          },
          "metadata": {
            "needs_background": "light"
          }
        }
      ]
    },
    {
      "cell_type": "code",
      "source": [
        "plt.plot(epochs, acc, 'bo', label='Training acc')\n",
        "plt.plot(epochs, val_acc, 'b', label='Validation acc')\n",
        "plt.title('Training and validation accuracy')\n",
        "plt.xlabel('Epochs')\n",
        "plt.ylabel('Accuracy')\n",
        "plt.legend(loc='lower right')\n",
        "\n",
        "plt.show()"
      ],
      "metadata": {
        "colab": {
          "base_uri": "https://localhost:8080/",
          "height": 295
        },
        "id": "wx4nlZNQwA9N",
        "outputId": "e3ccbfbe-3b29-4eab-9f84-838be45c0db6"
      },
      "execution_count": null,
      "outputs": [
        {
          "output_type": "display_data",
          "data": {
            "text/plain": [
              "<Figure size 432x288 with 1 Axes>"
            ],
            "image/png": "[encoded data removed]"
          },
          "metadata": {
            "needs_background": "light"
          }
        }
      ]
    },
    {
      "cell_type": "code",
      "source": [
        "import gensim\n",
        "import string\n",
        "from nltk.tokenize import sent_tokenize\n",
        "from nltk.corpus import stopwords\n",
        "from nltk.tokenize import word_tokenize\n",
        "\n",
        "def tokenize(file_text):\n",
        "  tokens = word_tokenize(file_text)\n",
        "\n",
        "  tokens = [i for i in tokens if (i not in string.punctuation)]\n",
        "\n",
        "  stop_words = stopwords.words('russian')\n",
        "  stop_words.extend(['что', 'это', 'так', 'вот', 'быть', 'как', 'в', '—', '–', 'к', 'на', '...','/n' , companies_names[0]])\n",
        "  tokens = [i for i in tokens if (i not in stop_words)]\n",
        "\n",
        "  return tokens"
      ],
      "metadata": {
        "id": "_xA6PU4eDiZ5"
      },
      "execution_count": null,
      "outputs": []
    }
  ]
}