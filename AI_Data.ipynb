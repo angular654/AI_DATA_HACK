{
  "nbformat": 4,
  "nbformat_minor": 0,
  "metadata": {
    "colab": {
      "provenance": [],
      "collapsed_sections": [],
      "include_colab_link": true
    },
    "kernelspec": {
      "name": "python3",
      "display_name": "Python 3"
    },
    "language_info": {
      "name": "python"
    }
  },
  "cells": [
    {
      "cell_type": "markdown",
      "metadata": {
        "id": "view-in-github",
        "colab_type": "text"
      },
      "source": [
        "<a href=\"https://colab.research.google.com/github/angular654/AI_DATA_HACK/blob/backend/AI_Data.ipynb\" target=\"_parent\"><img src=\"https://colab.research.google.com/assets/colab-badge.svg\" alt=\"Open In Colab\"/></a>"
      ]
    },
    {
      "cell_type": "markdown",
      "source": [
        "# Обработка данных\n",
        "Загрузка библиотек и данных"
      ],
      "metadata": {
        "id": "Ebw_jxyy3eik"
      }
    },
    {
      "cell_type": "code",
      "source": [
        "from google.colab import drive\n",
        "drive.mount('/content/drive')"
      ],
      "metadata": {
        "colab": {
          "base_uri": "https://localhost:8080/"
        },
        "id": "8GnMcjmIrUMd",
        "outputId": "bc9167f9-58bf-49a1-b94d-7d06e3b43bab"
      },
      "execution_count": null,
      "outputs": [
        {
          "output_type": "stream",
          "name": "stdout",
          "text": [
            "Mounted at /content/drive\n"
          ]
        }
      ]
    },
    {
      "cell_type": "code",
      "source": [
        "import pandas as pd\n",
        "import tensorflow as tf\n",
        "import numpy as np\n",
        "from tensorflow import keras\n",
        "import matplotlib.pyplot as plt\n",
        "%matplotlib inline\n",
        "import seaborn as sns\n",
        "import os\n",
        "import nltk\n",
        "from nltk.corpus import stopwords\n",
        "from string import punctuation\n",
        "\n",
        "from sklearn import linear_model"
      ],
      "metadata": {
        "id": "ejU4O2HBptGr"
      },
      "execution_count": null,
      "outputs": []
    },
    {
      "cell_type": "code",
      "execution_count": null,
      "metadata": {
        "id": "21JU7aul1dOy"
      },
      "outputs": [],
      "source": [
        "import warnings\n",
        "warnings.simplefilter(action='ignore', category=FutureWarning)"
      ]
    },
    {
      "cell_type": "code",
      "source": [
        "%%capture\n",
        "!wget /content/drive/MyDrive/Source_Data/company.xlsx\n",
        "!wget /content/drive/MyDrive/Source_Data/industries.xlsx\n",
        "!wget /content/drive/MyDrive/Source_Data/products_new.xlsx\n",
        "!wget /content/drive/MyDrive/Source_Data/technology.xlsx"
      ],
      "metadata": {
        "id": "-dOAnCbCpEQ4"
      },
      "execution_count": null,
      "outputs": []
    },
    {
      "cell_type": "markdown",
      "source": [
        "#Обработать данные\n",
        "Так как данные в формате xlsx, будем использовать специальную функцию из библиотеки pandas."
      ],
      "metadata": {
        "id": "kMqjWEi5vXte"
      }
    },
    {
      "cell_type": "code",
      "source": [
        "company_data = pd.read_excel('/content/drive/MyDrive/Source_Data/company.xlsx')\n",
        "company_data.shape"
      ],
      "metadata": {
        "colab": {
          "base_uri": "https://localhost:8080/"
        },
        "id": "6L7fG0lAsAqn",
        "outputId": "30045c63-9de7-47b3-a76f-271a7050e11f"
      },
      "execution_count": null,
      "outputs": [
        {
          "output_type": "execute_result",
          "data": {
            "text/plain": [
              "(3717, 9)"
            ]
          },
          "metadata": {},
          "execution_count": 44
        }
      ]
    },
    {
      "cell_type": "code",
      "source": [
        "industries_data = pd.read_excel('/content/drive/MyDrive/Source_Data/industries.xlsx')\n",
        "industries_data.shape"
      ],
      "metadata": {
        "colab": {
          "base_uri": "https://localhost:8080/"
        },
        "id": "s6in2Vjxu34x",
        "outputId": "630377ec-0405-4923-8fd5-fdeb008fe53e"
      },
      "execution_count": null,
      "outputs": [
        {
          "output_type": "execute_result",
          "data": {
            "text/plain": [
              "(10586, 4)"
            ]
          },
          "metadata": {},
          "execution_count": 45
        }
      ]
    },
    {
      "cell_type": "code",
      "source": [
        "products_new_data = pd.read_excel('/content/drive/MyDrive/Source_Data/products_new.xlsx')\n",
        "products_new_data.shape"
      ],
      "metadata": {
        "id": "wOCFpozqu-Pz"
      },
      "execution_count": null,
      "outputs": []
    },
    {
      "cell_type": "code",
      "source": [
        "technology_data = pd.read_excel('/content/drive/MyDrive/Source_Data/technology.xlsx')\n",
        "technology_data.shape"
      ],
      "metadata": {
        "colab": {
          "base_uri": "https://localhost:8080/"
        },
        "id": "FWuSRRFQvBFh",
        "outputId": "71408f59-f6eb-46f1-8db6-7c3f29c0369a"
      },
      "execution_count": null,
      "outputs": [
        {
          "output_type": "execute_result",
          "data": {
            "text/plain": [
              "(4761, 5)"
            ]
          },
          "metadata": {},
          "execution_count": 46
        }
      ]
    },
    {
      "cell_type": "code",
      "source": [
        "company_data.head() #Тест открытия: company_data.head, industries_data.head, products_new_data.head, technology_data.shape"
      ],
      "metadata": {
        "id": "QyEAOJRtt0Mo"
      },
      "execution_count": null,
      "outputs": []
    },
    {
      "cell_type": "code",
      "source": [
        "company_data.info() #Тест наличие пропусков: company_data.info, industries_data.info, products_new_data.info, technology_data.info"
      ],
      "metadata": {
        "id": "ZchFLARuyILX"
      },
      "execution_count": null,
      "outputs": []
    },
    {
      "cell_type": "markdown",
      "source": [
        "Обучение модели на обучающей выборке"
      ],
      "metadata": {
        "id": "qRtLmNXD3N4C"
      }
    },
    {
      "cell_type": "code",
      "source": [
        "linear_regression_model = linear_model.LinearRegression()"
      ],
      "metadata": {
        "id": "jhZJKIWF6vzW"
      },
      "execution_count": null,
      "outputs": []
    },
    {
      "cell_type": "markdown",
      "source": [
        "# Парсинг сайтов *приостановлнео*"
      ],
      "metadata": {
        "id": "1_cWq1yrRvr9"
      }
    },
    {
      "cell_type": "code",
      "source": [
        "import requests\n",
        "from bs4 import BeautifulSoup\n",
        "import openpyxl#ОПЕНХУЕЛ"
      ],
      "metadata": {
        "id": "rqd6ml3JR7it"
      },
      "execution_count": null,
      "outputs": []
    },
    {
      "cell_type": "code",
      "source": [
        "look_xlsx = openpyxl.open('/content/drive/MyDrive/Source_Data/company.xlsx')\n",
        "\n",
        "\n",
        "url = 'https://quotes.toscrape.com/'\n",
        "response = requests.get(url)\n",
        "soup = BeautifulSoup(response.text, 'lxml')\n",
        "\n",
        "print(soup)"
      ],
      "metadata": {
        "id": "JJ2Xkta562rj"
      },
      "execution_count": null,
      "outputs": []
    },
    {
      "cell_type": "code",
      "source": [
        "print(soup)"
      ],
      "metadata": {
        "id": "jZson0T2odGM"
      },
      "execution_count": null,
      "outputs": []
    },
    {
      "cell_type": "markdown",
      "source": [
        "[Многоклассовая текстовая классификация с LSTM](https://towardsdatascience.com/multi-class-text-classification-with-lstm-1590bee1bd17)"
      ],
      "metadata": {
        "id": "Tk2FOAYXllMw"
      }
    }
  ]
}